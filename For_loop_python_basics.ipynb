{
 "cells": [
  {
   "cell_type": "markdown",
   "id": "1cb0f154-20e2-4a34-8587-41f045e016c2",
   "metadata": {},
   "source": [
    "### Write a Python program to print the numbers from 1 to 10 using a `for` loop."
   ]
  },
  {
   "cell_type": "code",
   "execution_count": 1,
   "id": "97729b76-afc2-4fbc-bdae-f50b68786533",
   "metadata": {},
   "outputs": [
    {
     "name": "stdout",
     "output_type": "stream",
     "text": [
      "1\n",
      "2\n",
      "3\n",
      "4\n",
      "5\n",
      "6\n",
      "7\n",
      "8\n",
      "9\n",
      "10\n"
     ]
    }
   ],
   "source": [
    "for number in range(1, 10+1):\n",
    "    print(number)"
   ]
  },
  {
   "cell_type": "markdown",
   "id": "f04cfd24-a003-4fd5-b161-8de1a33ff19b",
   "metadata": {},
   "source": [
    "###  Create a program that calculates the sum of all numbers in a list using a `for` loop."
   ]
  },
  {
   "cell_type": "code",
   "execution_count": 2,
   "id": "362d15ab-b02f-495c-899d-61cc6d09931a",
   "metadata": {},
   "outputs": [
    {
     "name": "stdout",
     "output_type": "stream",
     "text": [
      "The sum of all the numbers on my list is: 22\n"
     ]
    }
   ],
   "source": [
    "my_list = [2,5,3,4,8]\n",
    "\n",
    "total = 0\n",
    "\n",
    "for summation in my_list:\n",
    "    total += summation\n",
    "\n",
    "print(f'The sum of all the numbers on my list is: {total}')\n",
    "    \n",
    "    "
   ]
  },
  {
   "cell_type": "markdown",
   "id": "d442dbf0-2e99-43dd-805f-0751cf6373bc",
   "metadata": {},
   "source": [
    "### Write a program to print the characters of a string in reverse order using a `for` loop."
   ]
  },
  {
   "cell_type": "code",
   "execution_count": 3,
   "id": "09fe9dc6-64c5-4fe9-aa73-ce5428a14aa5",
   "metadata": {},
   "outputs": [
    {
     "name": "stdout",
     "output_type": "stream",
     "text": [
      "lanoitanretnI\n"
     ]
    }
   ],
   "source": [
    "my_string = 'International'   \n",
    "\n",
    "reversal = ''\n",
    "\n",
    "for char in reversed(my_string):\n",
    "    reversal += char\n",
    "\n",
    "print(reversal)"
   ]
  },
  {
   "cell_type": "markdown",
   "id": "a0b9a4f9-f5de-4902-9ac1-77a9d4a6a2ae",
   "metadata": {},
   "source": [
    "### Develop a program that finds the factorial of a given number using a `for` loop."
   ]
  },
  {
   "cell_type": "code",
   "execution_count": 4,
   "id": "c9a8be77-7b63-4ca8-b999-f2e2c21b4ebd",
   "metadata": {},
   "outputs": [
    {
     "name": "stdout",
     "output_type": "stream",
     "text": [
      "facorial 5 is: 120\n"
     ]
    }
   ],
   "source": [
    "# create factorial 5 in a list an assign it to varible called factors\n",
    "factors = [5,4,3,2,1]\n",
    "\n",
    "factorial_5 = 1\n",
    "\n",
    "for factor in factors:\n",
    "    factorial_5 *= factor\n",
    "\n",
    "print(f'facorial 5 is: {factorial_5}')\n"
   ]
  },
  {
   "cell_type": "markdown",
   "id": "66b2d486-aadf-4c3b-b0a1-69ca18902099",
   "metadata": {},
   "source": [
    "###  Create a program to print the multiplication table of a given number using a `for` loop"
   ]
  },
  {
   "cell_type": "code",
   "execution_count": 5,
   "id": "55113885-c2d6-48eb-b86b-91c7af9b8cd1",
   "metadata": {},
   "outputs": [
    {
     "name": "stdin",
     "output_type": "stream",
     "text": [
      "Enter a certain number less than 10:  7\n"
     ]
    },
    {
     "name": "stdout",
     "output_type": "stream",
     "text": [
      "mulplication table for: 7\n",
      "7 * 1 = 7\n",
      "7 * 2 = 14\n",
      "7 * 3 = 21\n",
      "7 * 4 = 28\n",
      "7 * 5 = 35\n",
      "7 * 6 = 42\n",
      "7 * 7 = 49\n",
      "7 * 8 = 56\n",
      "7 * 9 = 63\n",
      "7 * 10 = 70\n",
      "7 * 11 = 77\n"
     ]
    }
   ],
   "source": [
    "# Get the given number for which you want to multiply\n",
    "number = int(input('Enter a certain number less than 10: '))\n",
    "\n",
    "# Enter the range at which you want to multiply\n",
    "range_num = range(1, 12)\n",
    "\n",
    "print(f'mulplication table for: {number}')\n",
    "\n",
    "for number_multiple in range_num:\n",
    "    result = number * number_multiple\n",
    "    print(f'{number} * { number_multiple} = {result}')"
   ]
  },
  {
   "cell_type": "markdown",
   "id": "4dc6a582-f502-4244-914c-406af55c0513",
   "metadata": {},
   "source": [
    " ### Write a program that counts the number of even and odd numbers in a list using a `for` loop."
   ]
  },
  {
   "cell_type": "code",
   "execution_count": 6,
   "id": "06edfc38-f2ee-4be8-b505-fc17a6fd1283",
   "metadata": {},
   "outputs": [
    {
     "name": "stdout",
     "output_type": "stream",
     "text": [
      "Count of even numbers: 10\n",
      "Count of odd numbers: 10\n"
     ]
    }
   ],
   "source": [
    "num_range = range(1, 21)\n",
    "\n",
    "total_even = 0\n",
    "total_odd = 0\n",
    "\n",
    "for i in num_range:\n",
    "    if i%2 == 0:\n",
    "        total_even += 1\n",
    "    else:\n",
    "        total_odd += 1\n",
    "\n",
    "# Print the counts\n",
    "print(\"Count of even numbers:\", total_even)\n",
    "print(\"Count of odd numbers:\", total_odd)"
   ]
  },
  {
   "cell_type": "markdown",
   "id": "e549fd0b-80aa-487e-9bad-901ef726708b",
   "metadata": {},
   "source": [
    "###  Develop a program that prints the squares of numbers from 1 to 5 using a `for` loop."
   ]
  },
  {
   "cell_type": "code",
   "execution_count": 37,
   "id": "8fd80dfe-1eac-4346-a2d9-0c9b9338f7b7",
   "metadata": {},
   "outputs": [
    {
     "name": "stdout",
     "output_type": "stream",
     "text": [
      "The square of 1 is: 1\n",
      "The square of 2 is: 4\n",
      "The square of 3 is: 9\n",
      "The square of 4 is: 16\n",
      "The square of 5 is: 25\n"
     ]
    }
   ],
   "source": [
    "# Get the number range from 1 to 5\n",
    "range_5 = range(1, 6)\n",
    "\n",
    "for num in range_5:\n",
    "    print(f'The square of {num} is: {num**2}')\n"
   ]
  },
  {
   "cell_type": "markdown",
   "id": "fce484a3-65e8-465a-a885-7fa889baf60f",
   "metadata": {},
   "source": [
    "###  Create a program to find the length of a string without using the `len()` function."
   ]
  },
  {
   "cell_type": "code",
   "execution_count": 14,
   "id": "02870245-e33f-44b0-8158-0342c55fc0fe",
   "metadata": {},
   "outputs": [
    {
     "name": "stdout",
     "output_type": "stream",
     "text": [
      "12\n"
     ]
    }
   ],
   "source": [
    "# Get the string\n",
    "strg1 = 'Introduction'\n",
    "\n",
    "total_lenght = 0\n",
    "\n",
    "# loop through\n",
    "for len in strg1:\n",
    "    total_lenght += 1\n",
    "\n",
    "print(total_lenght)\n",
    "    "
   ]
  },
  {
   "cell_type": "markdown",
   "id": "f36479c9-175c-44fa-8e88-d1ae812138a5",
   "metadata": {},
   "source": [
    "###  Write a program that calculates the average of a list of numbers using a `for` loop."
   ]
  },
  {
   "cell_type": "code",
   "execution_count": 29,
   "id": "e1801975-98ea-4f7c-8387-3af19e9ee899",
   "metadata": {},
   "outputs": [
    {
     "name": "stdout",
     "output_type": "stream",
     "text": [
      "The number of elements present in the list is: 6\n",
      "The average of the list numbers is: 5.0\n"
     ]
    }
   ],
   "source": [
    "# Get the list of numbers to be calculated\n",
    "list1 = [2, 3, 3, 5, 7, 10]\n",
    "\n",
    "list_element_sum = 0\n",
    "total_num_in_list = 0\n",
    "\n",
    "# loop through the numbers\n",
    "for num in list1:\n",
    "    list_element_sum += num\n",
    "    total_num_in_list += 1\n",
    "\n",
    "# print the total sum of element in list \n",
    "print(f'The number of elements present in the list is: {total_num_in_list}')\n",
    "\n",
    "# Caluclating the average\n",
    "print(f'The average of the list numbers is: {list_element_sum/total_num_in_list}')"
   ]
  },
  {
   "cell_type": "markdown",
   "id": "bdc861dc-66e1-48aa-9139-003ab19221ef",
   "metadata": {},
   "source": [
    "###  Develop a program that prints the first `n` Fibonacci numbers using a `for` loop.\n",
    "\n"
   ]
  },
  {
   "cell_type": "code",
   "execution_count": 30,
   "id": "7d33d430-6f62-41dd-bf7d-e29bb11a6fc4",
   "metadata": {},
   "outputs": [
    {
     "name": "stdin",
     "output_type": "stream",
     "text": [
      "Enter the number of Fibonacci numbers to generate:  8\n"
     ]
    },
    {
     "name": "stdout",
     "output_type": "stream",
     "text": [
      "The first 8 Fibonacci numbers are:\n",
      "0 1 1 2 3 5 8 13 "
     ]
    }
   ],
   "source": [
    "# Input: Get the value of 'n' from the user\n",
    "n = int(input(\"Enter the number of Fibonacci numbers to generate: \"))\n",
    "\n",
    "# Initialize the first two Fibonacci numbers\n",
    "fibonacci_sequence = [0, 1]\n",
    "\n",
    "# Generate the Fibonacci sequence using a for loop\n",
    "for i in range(2, n):\n",
    "    next_fibonacci = fibonacci_sequence[i - 1] + fibonacci_sequence[i - 2]\n",
    "    fibonacci_sequence.append(next_fibonacci)\n",
    "\n",
    "# Print the first 'n' Fibonacci numbers\n",
    "print(f\"The first {n} Fibonacci numbers are:\")\n",
    "for number in fibonacci_sequence[:n]:\n",
    "    print(number, end=\" \")"
   ]
  },
  {
   "cell_type": "markdown",
   "id": "d9d391d1-89cf-42fa-a2b5-f3584448b349",
   "metadata": {},
   "source": [
    "###  Write a program to check if a given list contains any duplicates using a `for` loop."
   ]
  },
  {
   "cell_type": "code",
   "execution_count": 45,
   "id": "64b24954-dfe7-4f35-9491-af472966d730",
   "metadata": {},
   "outputs": [
    {
     "ename": "TypeError",
     "evalue": "'str' object is not callable",
     "output_type": "error",
     "traceback": [
      "\u001b[0;31m---------------------------------------------------------------------------\u001b[0m",
      "\u001b[0;31mTypeError\u001b[0m                                 Traceback (most recent call last)",
      "Cell \u001b[0;32mIn[45], line 8\u001b[0m\n\u001b[1;32m      5\u001b[0m has_duplicates \u001b[38;5;241m=\u001b[39m \u001b[38;5;28;01mFalse\u001b[39;00m\n\u001b[1;32m      7\u001b[0m \u001b[38;5;66;03m# Iterate through the list using a for loop\u001b[39;00m\n\u001b[0;32m----> 8\u001b[0m \u001b[38;5;28;01mfor\u001b[39;00m i \u001b[38;5;129;01min\u001b[39;00m \u001b[38;5;28mrange\u001b[39m(\u001b[38;5;28;43mlen\u001b[39;49m\u001b[43m(\u001b[49m\u001b[43melements\u001b[49m\u001b[43m)\u001b[49m):\n\u001b[1;32m      9\u001b[0m     \u001b[38;5;28;01mfor\u001b[39;00m j \u001b[38;5;129;01min\u001b[39;00m \u001b[38;5;28mrange\u001b[39m(i \u001b[38;5;241m+\u001b[39m \u001b[38;5;241m1\u001b[39m, \u001b[38;5;28mlen\u001b[39m(elements)):\n\u001b[1;32m     10\u001b[0m         \u001b[38;5;28;01mif\u001b[39;00m elements[i] \u001b[38;5;241m==\u001b[39m elements[j]:\n",
      "\u001b[0;31mTypeError\u001b[0m: 'str' object is not callable"
     ]
    }
   ],
   "source": [
    "# Input: Create a list of elements\n",
    "elements = [1, 2, 3, 4, 2, 5, 6]\n",
    "\n",
    "# Initialize a flag variable to track duplicates\n",
    "has_duplicates = False\n",
    "\n",
    "# Iterate through the list using a for loop\n",
    "for i in range(len(elements)):\n",
    "    for j in range(i + 1, len(elements)):\n",
    "        if elements[i] == elements[j]:\n",
    "            has_duplicates = True\n",
    "            break\n",
    "\n",
    "# Check the flag and print the result\n",
    "if has_duplicates:\n",
    "    print(\"The list contains duplicates.\")\n",
    "else:\n",
    "    print(\"The list does not contain duplicates.\")"
   ]
  },
  {
   "cell_type": "markdown",
   "id": "aab76de5-f91f-4920-9c60-c4f7f14f67f0",
   "metadata": {},
   "source": [
    "### Create a program that prints the prime numbers in a given range using a `for` loop."
   ]
  },
  {
   "cell_type": "code",
   "execution_count": 49,
   "id": "cff0e84e-90e1-422e-bc0c-7635c8ce4963",
   "metadata": {},
   "outputs": [
    {
     "name": "stdout",
     "output_type": "stream",
     "text": [
      "211\n",
      "223\n",
      "227\n",
      "229\n",
      "233\n",
      "239\n",
      "241\n",
      "251\n",
      "257\n",
      "263\n",
      "269\n",
      "271\n",
      "277\n",
      "281\n",
      "283\n",
      "293\n"
     ]
    }
   ],
   "source": [
    "# Python program to display all the prime numbers within an interval\n",
    "\n",
    "list_range1 = range(200, 300+1)\n",
    "\n",
    "for num1 in list_range1:\n",
    "    # since all prime numbers are greater than 1\n",
    "    if num1 > 1:\n",
    "        for i in range(2, num1):\n",
    "            if num1%i == 0:\n",
    "                break\n",
    "        else:\n",
    "            print(num1)\n",
    "            "
   ]
  },
  {
   "cell_type": "markdown",
   "id": "8de5228e-b3c8-4bf7-a386-e53c350cf02d",
   "metadata": {},
   "source": [
    "###  Develop a program that counts the number of vowels in a string using a `for` loop."
   ]
  },
  {
   "cell_type": "code",
   "execution_count": 54,
   "id": "9117ffab-4c92-4d54-8e56-ee336ab3b8bf",
   "metadata": {},
   "outputs": [
    {
     "name": "stdout",
     "output_type": "stream",
     "text": [
      "The number of vowels present in the string is: 5\n"
     ]
    }
   ],
   "source": [
    "vowel_string = 'Originality'\n",
    "\n",
    "vowels = ['a','e','i','o','u','A','E','I','O','U']\n",
    "count = 0\n",
    "\n",
    "for char in vowel_string:\n",
    "    if char in vowels:\n",
    "        count += 1\n",
    "        \n",
    "print(f'The number of vowels present in the string is: {count}')\n"
   ]
  },
  {
   "cell_type": "markdown",
   "id": "b9bd6998-9caf-4028-94ed-929b5fd28418",
   "metadata": {},
   "source": [
    "###  Write a program to find the maximum element in a 2D list using a nested `for` loop"
   ]
  },
  {
   "cell_type": "code",
   "execution_count": 55,
   "id": "b1143818-3e38-4773-8ee2-8d08fefe4b94",
   "metadata": {},
   "outputs": [
    {
     "name": "stdout",
     "output_type": "stream",
     "text": [
      "The maximum element in the 2D list is: 12\n"
     ]
    }
   ],
   "source": [
    "# Input: Create a 2D list\n",
    "matrix = [\n",
    "    [10, 5, 8],\n",
    "    [2, 11, 9],\n",
    "    [7, 6, 12]\n",
    "]\n",
    "\n",
    "# Initialize a variable to store the maximum element\n",
    "max_element = matrix[0][0]\n",
    "\n",
    "# Iterate through the 2D list using nested for loops\n",
    "for row in matrix:\n",
    "    for element in row:\n",
    "        if element > max_element:\n",
    "            max_element = element\n",
    "\n",
    "# Print the maximum element\n",
    "print(\"The maximum element in the 2D list is:\", max_element)"
   ]
  },
  {
   "cell_type": "markdown",
   "id": "2b2e9f9a-1189-4005-99c1-2e67f18b66db",
   "metadata": {},
   "source": [
    "###  Create a program that removes all occurrences of a specific element from a list using a `for` loop"
   ]
  },
  {
   "cell_type": "code",
   "execution_count": 1,
   "id": "bfdad178-e501-4831-8a9d-fee8ba5769e5",
   "metadata": {},
   "outputs": [
    {
     "name": "stdout",
     "output_type": "stream",
     "text": [
      "List after removing all occurrences of 2 : [1, 3, 4, 5, 6]\n"
     ]
    }
   ],
   "source": [
    "# Input: Create a list\n",
    "my_list = [1, 2, 3, 4, 2, 5, 6, 2]\n",
    "\n",
    "# Input: Specify the element to be removed\n",
    "element_to_remove = 2\n",
    "\n",
    "# Create a new list to store the elements without the specified element\n",
    "new_list = []\n",
    "\n",
    "# Iterate through the original list using a for loop\n",
    "for item in my_list:\n",
    "    if item != element_to_remove:\n",
    "        new_list.append(item)\n",
    "\n",
    "# Replace the original list with the new list\n",
    "my_list = new_list\n",
    "\n",
    "# Print the modified list\n",
    "print(\"List after removing all occurrences of\", element_to_remove, \":\", my_list)"
   ]
  },
  {
   "cell_type": "markdown",
   "id": "3ac777a0-42f7-4bab-a522-af70d2ed844f",
   "metadata": {},
   "source": [
    "### Develop a program that generates a multiplication table for numbers from 1 to 5 using a nested `for` loop."
   ]
  },
  {
   "cell_type": "code",
   "execution_count": 2,
   "id": "ed1852d5-5ade-4277-a93f-d39a4f98f909",
   "metadata": {},
   "outputs": [
    {
     "name": "stdout",
     "output_type": "stream",
     "text": [
      "Multiplication Table:\n",
      "      1   2   3   4   5\n",
      " 1 |   1   2   3   4   5\n",
      " 2 |   2   4   6   8  10\n",
      " 3 |   3   6   9  12  15\n",
      " 4 |   4   8  12  16  20\n",
      " 5 |   5  10  15  20  25\n"
     ]
    }
   ],
   "source": [
    "# Define the range of numbers for the multiplication table\n",
    "start = 1\n",
    "end = 5\n",
    "\n",
    "# Print the header row\n",
    "print(\"Multiplication Table:\")\n",
    "\n",
    "# Print the column headers\n",
    "print(\"   \", end=\"\")  # Empty space for alignment\n",
    "for i in range(start, end + 1):\n",
    "    print(f\"{i:4}\", end=\"\")  # Align columns with width 4\n",
    "print()  # Move to the next line\n",
    "\n",
    "# Generate and print the multiplication table using nested for loops\n",
    "for i in range(start, end + 1):\n",
    "    print(f\"{i:2} |\", end=\"\")  # Row header with width 2\n",
    "    for j in range(start, end + 1):\n",
    "        result = i * j\n",
    "        print(f\"{result:4}\", end=\"\")  # Align columns with width 4\n",
    "    print()  # Move to the next line"
   ]
  },
  {
   "cell_type": "markdown",
   "id": "17fb93b8-7f0d-4275-8aa1-dbbba01c1b9e",
   "metadata": {},
   "source": [
    "### Write a program that converts a list of Fahrenheit temperatures to Celsius using a `for` loop."
   ]
  },
  {
   "cell_type": "code",
   "execution_count": 4,
   "id": "7cd189bc-0e03-4cf1-a2dc-948ba286b265",
   "metadata": {},
   "outputs": [
    {
     "name": "stdout",
     "output_type": "stream",
     "text": [
      "The celcius scale of 14degree fahrenheit is: -10.0\n",
      "The celcius scale of 34degree fahrenheit is: 1.1111111111111112\n",
      "The celcius scale of 56degree fahrenheit is: 13.333333333333334\n",
      "The celcius scale of 22degree fahrenheit is: -5.555555555555555\n",
      "The celcius scale of 40degree fahrenheit is: 4.444444444444445\n"
     ]
    }
   ],
   "source": [
    "fahrenheit_temp = [14,34,56,22,40]\n",
    "\n",
    "for temp in fahrenheit_temp:\n",
    "    celsius = (temp - 32) * 5/9\n",
    "    print(f'The celcius scale of {temp}degree fahrenheit is: {celsius}')"
   ]
  },
  {
   "cell_type": "markdown",
   "id": "d1bd62b8-6b7a-41e9-9e62-8f0e9551aada",
   "metadata": {},
   "source": [
    "###  Create a program to print the common elements from two lists using a `for` loop."
   ]
  },
  {
   "cell_type": "code",
   "execution_count": 6,
   "id": "3a5b6314-f408-46c7-85f4-702b5a610e06",
   "metadata": {},
   "outputs": [
    {
     "name": "stdout",
     "output_type": "stream",
     "text": [
      "The Common elements found are: [3, 4, 5]\n"
     ]
    }
   ],
   "source": [
    "# Input: Create two lists\n",
    "list1 = [1, 2, 3, 4, 5]\n",
    "list2 = [3, 4, 5, 6, 7]\n",
    "\n",
    "# Create an empty list to store common elements\n",
    "common_elements = []\n",
    "\n",
    "# Iterate through the elements of the first list using a for loop\n",
    "for element1 in list1:\n",
    "    # Check if the element is also in the second list\n",
    "    if element1 in list2:\n",
    "        common_elements.append(element1)\n",
    "\n",
    "# Print the common elements\n",
    "print(\"The Common elements found are:\", common_elements)"
   ]
  },
  {
   "cell_type": "markdown",
   "id": "4b38ccb5-f061-4e99-9da9-b30d44993298",
   "metadata": {},
   "source": [
    "###  Develop a program that prints the pattern of right-angled triangles using a `for` loop. Use ‘*’ to draw the\n",
    "pattern"
   ]
  },
  {
   "cell_type": "code",
   "execution_count": 13,
   "id": "7031d9a2-016e-44e2-8b7e-ed15a44258bd",
   "metadata": {},
   "outputs": [
    {
     "name": "stdout",
     "output_type": "stream",
     "text": [
      "*\n",
      "**\n",
      "***\n",
      "****\n",
      "*****\n",
      "******\n",
      "*******\n",
      "********\n"
     ]
    }
   ],
   "source": [
    "num_range = range(1, 9)\n",
    "\n",
    "for i in num_range:\n",
    "    # Print '*' character 'i' times in each row\n",
    "    print('*' * i)\n",
    "    "
   ]
  },
  {
   "cell_type": "markdown",
   "id": "741c7802-b52c-42be-a106-3efb08d598e0",
   "metadata": {},
   "source": [
    "### Write a program to find the greatest common divisor (GCD) of two numbers using a `for` loop"
   ]
  },
  {
   "cell_type": "code",
   "execution_count": 14,
   "id": "f1387716-5e84-43c1-8071-b82c9c976a2e",
   "metadata": {},
   "outputs": [
    {
     "name": "stdin",
     "output_type": "stream",
     "text": [
      "Enter the first number:  5\n",
      "Enter the second number:  15\n"
     ]
    },
    {
     "name": "stdout",
     "output_type": "stream",
     "text": [
      "The Greatest Common Divisor (GCD) of 5 and 15 is 5\n"
     ]
    }
   ],
   "source": [
    "# Input: Get two numbers from the user\n",
    "num1 = int(input(\"Enter the first number: \"))\n",
    "num2 = int(input(\"Enter the second number: \"))\n",
    "\n",
    "# Find the smaller number among the two\n",
    "if num1 < num2:\n",
    "    smaller = num1\n",
    "else:\n",
    "    smaller = num2\n",
    "\n",
    "# Initialize a variable to store the GCD\n",
    "gcd = 1\n",
    "\n",
    "# Iterate through the numbers from 1 to the smaller number using a for loop\n",
    "for i in range(1, smaller + 1):\n",
    "    if num1 % i == 0 and num2 % i == 0:\n",
    "        gcd = i\n",
    "\n",
    "# Print the GCD\n",
    "print(\"The Greatest Common Divisor (GCD) of\", num1, \"and\", num2, \"is\", gcd)"
   ]
  },
  {
   "cell_type": "markdown",
   "id": "f6f640c8-ebc6-4c1b-aa1f-141cab98ca83",
   "metadata": {},
   "source": [
    "### Certainly! You can calculate the sum of the digits of numbers in a list using a list comprehension. Here's a Python program that does that:"
   ]
  },
  {
   "cell_type": "code",
   "execution_count": 15,
   "id": "84e7b567-6931-4a10-a176-7398a5ef9cb4",
   "metadata": {},
   "outputs": [
    {
     "name": "stdout",
     "output_type": "stream",
     "text": [
      "Sums of digits for each number: [6, 9, 21, 9, 3]\n"
     ]
    }
   ],
   "source": [
    "# Input: Create a list of numbers\n",
    "numbers = [123, 45, 678, 9, 12]\n",
    "\n",
    "# Use a list comprehension to calculate the sum of digits for each number\n",
    "sums_of_digits = [sum(int(digit) for digit in str(number)) for number in numbers]\n",
    "\n",
    "# Print the list of sums\n",
    "print(\"Sums of digits for each number:\", sums_of_digits)"
   ]
  },
  {
   "cell_type": "markdown",
   "id": "ca631087-86e1-4797-8fa8-f084c7b26e19",
   "metadata": {},
   "source": [
    "### Write a program to find the prime factors of a given number using a `for` loop and list comprehension."
   ]
  },
  {
   "cell_type": "code",
   "execution_count": 16,
   "id": "fd50a9f8-5e89-4472-bb4f-82470cde68a1",
   "metadata": {},
   "outputs": [
    {
     "name": "stdin",
     "output_type": "stream",
     "text": [
      "Enter a number:  25\n"
     ]
    },
    {
     "name": "stdout",
     "output_type": "stream",
     "text": [
      "Prime factors of 1 are: [5, 5]\n"
     ]
    }
   ],
   "source": [
    "# Input: Get the number from the user\n",
    "number = int(input(\"Enter a number: \"))\n",
    "\n",
    "# Initialize an empty list to store prime factors\n",
    "prime_factors = []\n",
    "\n",
    "# Find prime factors using a for loop\n",
    "for i in range(2, number + 1):\n",
    "    while number % i == 0:\n",
    "        prime_factors.append(i)\n",
    "        number = number // i  # Divide by i to reduce the number\n",
    "\n",
    "# Print the prime factors\n",
    "if prime_factors:\n",
    "    print(\"Prime factors of\", number, \"are:\", prime_factors)\n",
    "else:\n",
    "    print(\"There are no prime factors for\", number)"
   ]
  },
  {
   "cell_type": "markdown",
   "id": "5545dd3d-2fa4-4fd1-86b8-94d447559406",
   "metadata": {},
   "source": [
    "### Develop a program that extracts unique elements from a list and stores them in a new list using a list\n",
    "comprehension."
   ]
  },
  {
   "cell_type": "code",
   "execution_count": 17,
   "id": "e069fc88-ff03-47ff-a277-94fb2ef39af5",
   "metadata": {},
   "outputs": [
    {
     "name": "stdout",
     "output_type": "stream",
     "text": [
      "Original List: [1, 2, 2, 3, 4, 4, 5, 5, 6, 7]\n",
      "Unique List: [1, 2, 3, 4, 5, 6, 7]\n"
     ]
    }
   ],
   "source": [
    "# Input: Create a list with some duplicate elements\n",
    "original_list = [1, 2, 2, 3, 4, 4, 5, 5, 6, 7]\n",
    "\n",
    "# Use a list comprehension to extract unique elements\n",
    "unique_list = [x for i, x in enumerate(original_list) if x not in original_list[:i]]\n",
    "\n",
    "# Print the unique elements\n",
    "print(\"Original List:\", original_list)\n",
    "print(\"Unique List:\", unique_list)"
   ]
  },
  {
   "cell_type": "markdown",
   "id": "ea4c7b30-00d6-4a33-8b74-a7c868f598e0",
   "metadata": {},
   "source": [
    "### Create a program that generates a list of all palindromic numbers up to a specified limit using a list\n",
    "comprehension."
   ]
  },
  {
   "cell_type": "code",
   "execution_count": 18,
   "id": "63a81575-ad09-4acf-8371-010120dd9a74",
   "metadata": {},
   "outputs": [
    {
     "name": "stdin",
     "output_type": "stream",
     "text": [
      "Enter the upper limit:  25\n"
     ]
    },
    {
     "name": "stdout",
     "output_type": "stream",
     "text": [
      "Palindromic Numbers up to 25 are: [0, 1, 2, 3, 4, 5, 6, 7, 8, 9, 11, 22]\n"
     ]
    }
   ],
   "source": [
    "# Input: Get the upper limit from the user\n",
    "limit = int(input(\"Enter the upper limit: \"))\n",
    "\n",
    "# Use a list comprehension to generate palindromic numbers\n",
    "palindromic_numbers = [num for num in range(limit + 1) if str(num) == str(num)[::-1]]\n",
    "\n",
    "# Print the list of palindromic numbers\n",
    "print(\"Palindromic Numbers up to\", limit, \"are:\", palindromic_numbers)"
   ]
  },
  {
   "cell_type": "markdown",
   "id": "70f1970b-3718-4254-81a8-8c9b49a278de",
   "metadata": {},
   "source": [
    "### Write a program to flatten a nested list using list comprehension."
   ]
  },
  {
   "cell_type": "code",
   "execution_count": 19,
   "id": "11404339-a365-4d16-8381-ef87df426479",
   "metadata": {},
   "outputs": [
    {
     "name": "stdout",
     "output_type": "stream",
     "text": [
      "Original Nested List: [[1, 2, 3], [4, 5], [6, 7, 8]]\n",
      "Flattened List: [1, 2, 3, 4, 5, 6, 7, 8]\n"
     ]
    }
   ],
   "source": [
    "# Input: Create a nested list\n",
    "nested_list = [[1, 2, 3], [4, 5], [6, 7, 8]]\n",
    "\n",
    "# Use a list comprehension to flatten the nested list\n",
    "flattened_list = [element for sublist in nested_list for element in sublist]\n",
    "\n",
    "# Print the flattened list\n",
    "print(\"Original Nested List:\", nested_list)\n",
    "print(\"Flattened List:\", flattened_list)"
   ]
  },
  {
   "cell_type": "markdown",
   "id": "d8905712-8341-42ea-acb3-a468318b1347",
   "metadata": {},
   "source": [
    "###  Develop a program that computes the sum of even and odd numbers in a list separately using list\n",
    "comprehension."
   ]
  },
  {
   "cell_type": "code",
   "execution_count": 20,
   "id": "2331d624-7988-48a5-9e2f-ec42b3222dcc",
   "metadata": {},
   "outputs": [
    {
     "name": "stdout",
     "output_type": "stream",
     "text": [
      "Original List: [1, 2, 3, 4, 5, 6, 7, 8, 9, 10]\n",
      "Sum of Even Numbers: 30\n",
      "Sum of Odd Numbers: 25\n"
     ]
    }
   ],
   "source": [
    "# Input: Create a list of numbers\n",
    "numbers = [1, 2, 3, 4, 5, 6, 7, 8, 9, 10]\n",
    "\n",
    "# Use list comprehensions to compute the sum of even and odd numbers separately\n",
    "even_sum = sum([num for num in numbers if num % 2 == 0])\n",
    "odd_sum = sum([num for num in numbers if num % 2 != 0])\n",
    "\n",
    "# Print the sums\n",
    "print(\"Original List:\", numbers)\n",
    "print(\"Sum of Even Numbers:\", even_sum)\n",
    "print(\"Sum of Odd Numbers:\", odd_sum)"
   ]
  },
  {
   "cell_type": "markdown",
   "id": "84e38144-0550-44d0-80b7-d4a18f728849",
   "metadata": {},
   "source": [
    "### Create a program that generates a list of squares of odd numbers between 1 and 10 using list comprehension"
   ]
  },
  {
   "cell_type": "code",
   "execution_count": 21,
   "id": "f3c39f4b-4758-4268-9a48-cacf9f717093",
   "metadata": {},
   "outputs": [
    {
     "name": "stdout",
     "output_type": "stream",
     "text": [
      "Squares of Odd Numbers between 1 and 10: [1, 9, 25, 49, 81]\n"
     ]
    }
   ],
   "source": [
    "# Use list comprehension to generate squares of odd numbers between 1 and 10\n",
    "odd_squares = [num**2 for num in range(1, 11) if num % 2 != 0]\n",
    "\n",
    "# Print the list of squares\n",
    "print(\"Squares of Odd Numbers between 1 and 10:\", odd_squares)"
   ]
  },
  {
   "cell_type": "markdown",
   "id": "0bfc3cce-58dd-44ee-9792-d5d113f07a7c",
   "metadata": {},
   "source": [
    "### Write a program that combines two lists into a dictionary using list comprehension"
   ]
  },
  {
   "cell_type": "code",
   "execution_count": 22,
   "id": "2c59edf6-f4f4-4e2a-bb65-6f4e3b27c1ba",
   "metadata": {},
   "outputs": [
    {
     "name": "stdout",
     "output_type": "stream",
     "text": [
      "Combined Dictionary: {'a': 1, 'b': 2, 'c': 3}\n"
     ]
    }
   ],
   "source": [
    "# Input: Create two lists, one for keys and one for values\n",
    "keys = [\"a\", \"b\", \"c\"]\n",
    "values = [1, 2, 3]\n",
    "\n",
    "# Use a dictionary comprehension to combine the lists into a dictionary\n",
    "combined_dict = {key: value for key, value in zip(keys, values)}\n",
    "\n",
    "# Print the resulting dictionary\n",
    "print(\"Combined Dictionary:\", combined_dict)"
   ]
  },
  {
   "cell_type": "markdown",
   "id": "6960f277-7290-417b-a3d9-7a0ec3645db9",
   "metadata": {},
   "source": [
    "###  Develop a program that extracts the vowels from a string and stores them in a list using list comprehension"
   ]
  },
  {
   "cell_type": "code",
   "execution_count": 37,
   "id": "e875dbff-1b2e-4e8f-9ef5-550c0ad8a32c",
   "metadata": {},
   "outputs": [
    {
     "name": "stdout",
     "output_type": "stream",
     "text": [
      "['o', 'e', 'e', 'i', 'o']\n"
     ]
    },
    {
     "data": {
      "text/plain": [
       "['o', 'e', 'e', 'i', 'o']"
      ]
     },
     "execution_count": 37,
     "metadata": {},
     "output_type": "execute_result"
    }
   ],
   "source": [
    "strng = 'Comprehension'\n",
    "\n",
    "vowels = ['a','e','i','o','u','A','E','I','O','U']\n",
    "\n",
    "new_list = []\n",
    "\n",
    "for item in strng:\n",
    "    if item in vowels:\n",
    "        new_list += item\n",
    "        \n",
    "print(new_list)\n",
    "    \n",
    "# Putting it in a list coprehension\n",
    "new_list = [item for item in strng  if item in vowels ]\n",
    "new_list\n",
    "\n"
   ]
  },
  {
   "cell_type": "markdown",
   "id": "4f698303-51d1-4dcc-a1ed-a80e1455848d",
   "metadata": {},
   "source": [
    "### Create a program that removes all non-numeric characters from a list of strings using list comprehension.\n",
    "\n"
   ]
  },
  {
   "cell_type": "code",
   "execution_count": 38,
   "id": "ff9301aa-8423-474a-a84a-f6babc64907f",
   "metadata": {},
   "outputs": [
    {
     "name": "stdout",
     "output_type": "stream",
     "text": [
      "Original List: ['abc123', '456def', '789ghi', 'jkl']\n",
      "Numeric Strings List: ['123', '456', '789', '']\n"
     ]
    }
   ],
   "source": [
    "# Input: Create a list of strings\n",
    "string_list = ['abc123', '456def', '789ghi', 'jkl']\n",
    "\n",
    "# Use list comprehension to remove non-numeric characters\n",
    "numeric_strings = [''.join(char for char in string if char.isnumeric()) for string in string_list]\n",
    "\n",
    "# Print the resulting list of numeric strings\n",
    "print(\"Original List:\", string_list)\n",
    "print(\"Numeric Strings List:\", numeric_strings)"
   ]
  },
  {
   "cell_type": "markdown",
   "id": "9ffb2ffa-5254-4221-8fdf-7e1ed9e655f4",
   "metadata": {},
   "source": [
    "###  Write a program to generate a list of prime numbers using the Sieve of Eratosthenes algorithm and list comprehension"
   ]
  },
  {
   "cell_type": "code",
   "execution_count": 40,
   "id": "46ac6adb-df7d-421c-8abb-f5abae1fec0d",
   "metadata": {},
   "outputs": [
    {
     "name": "stdin",
     "output_type": "stream",
     "text": [
      "Enter the upper limit for prime numbers:  51\n"
     ]
    },
    {
     "name": "stdout",
     "output_type": "stream",
     "text": [
      "Prime Numbers up to 51 are: [2, 3, 5, 7, 11, 13, 17, 19, 23, 29, 31, 37, 41, 43, 47]\n"
     ]
    }
   ],
   "source": [
    "def sieve_eratosthenes(limit):\n",
    "    sieve = [True] * (limit + 1)\n",
    "    sieve[0] = sieve[1] = False\n",
    "\n",
    "    for current in range(2, int(limit**0.5) + 1):\n",
    "        if sieve[current]:\n",
    "            for multiple in range(current * current, limit + 1, current):\n",
    "                sieve[multiple] = False\n",
    "\n",
    "    prime_numbers = [num for num, is_prime in enumerate(sieve) if is_prime]\n",
    "    return prime_numbers\n",
    "\n",
    "# Input: Specify the upper limit for prime numbers\n",
    "limit = int(input(\"Enter the upper limit for prime numbers: \"))\n",
    "\n",
    "# Generate and print the list of prime numbers up to the specified limit\n",
    "prime_list = sieve_eratosthenes(limit)\n",
    "print(\"Prime Numbers up to\", limit, \"are:\", prime_list)"
   ]
  },
  {
   "cell_type": "markdown",
   "id": "56fde039-000c-4832-9544-c0410639b1f1",
   "metadata": {},
   "source": [
    "### Create a program that generates a list of all Pythagorean triplets up to a specified limit using list comprehension"
   ]
  },
  {
   "cell_type": "code",
   "execution_count": 43,
   "id": "52f69087-4edf-4378-86d9-7bde97f3071f",
   "metadata": {},
   "outputs": [
    {
     "name": "stdin",
     "output_type": "stream",
     "text": [
      "Enter the upper limit for Pythagorean triplets:  22\n"
     ]
    },
    {
     "name": "stdout",
     "output_type": "stream",
     "text": [
      "Pythagorean Triplets up to 22 are:\n",
      "(3, 4, 5)\n",
      "(6, 8, 10)\n",
      "(5, 12, 13)\n",
      "(9, 12, 15)\n",
      "(8, 15, 17)\n",
      "(12, 16, 20)\n"
     ]
    }
   ],
   "source": [
    "# Input: Specify the upper limit for Pythagorean triplets\n",
    "limit = int(input(\"Enter the upper limit for Pythagorean triplets: \"))\n",
    "\n",
    "# Use list comprehension to generate Pythagorean triplets\n",
    "pythagorean_triplets = [(a, b, c) for c in range(1, limit + 1) for b in range(1, c) for a in range(1, b) if a**2 + b**2 == c**2]\n",
    "\n",
    "# Print the list of Pythagorean triplets\n",
    "print(\"Pythagorean Triplets up to\", limit, \"are:\")\n",
    "for triplet in pythagorean_triplets:\n",
    "    print(triplet)"
   ]
  },
  {
   "cell_type": "markdown",
   "id": "9db8340f-26ca-4bae-a5f2-354e54e8be4a",
   "metadata": {},
   "source": [
    "### Develop a program that generates a list of all possible combinations of two lists using list comprehension."
   ]
  },
  {
   "cell_type": "code",
   "execution_count": 44,
   "id": "e5d94243-1fd6-4c0e-9b70-9ec45b6aa0cf",
   "metadata": {},
   "outputs": [
    {
     "name": "stdout",
     "output_type": "stream",
     "text": [
      "All Possible Combinations:\n",
      "(1, 'A')\n",
      "(1, 'B')\n",
      "(1, 'C')\n",
      "(2, 'A')\n",
      "(2, 'B')\n",
      "(2, 'C')\n",
      "(3, 'A')\n",
      "(3, 'B')\n",
      "(3, 'C')\n"
     ]
    }
   ],
   "source": [
    "# Input: Create two lists\n",
    "list1 = [1, 2, 3]\n",
    "list2 = ['A', 'B', 'C']\n",
    "\n",
    "# Use list comprehension to generate all possible combinations\n",
    "combinations = [(x, y) for x in list1 for y in list2]\n",
    "\n",
    "# Print the list of combinations\n",
    "print(\"All Possible Combinations:\")\n",
    "for combination in combinations:\n",
    "    print(combination)"
   ]
  },
  {
   "cell_type": "markdown",
   "id": "faeba9da-b1f2-44de-ae94-97bf6604b47b",
   "metadata": {},
   "source": [
    "### Write a program that calculates the mean, median, and mode of a list of numbers using list comprehension."
   ]
  },
  {
   "cell_type": "code",
   "execution_count": 45,
   "id": "e40b5ff8-3070-4cf7-a24c-8b43071832f6",
   "metadata": {},
   "outputs": [
    {
     "name": "stdout",
     "output_type": "stream",
     "text": [
      "List of Numbers: [4, 2, 7, 2, 5, 8, 3, 9, 6, 7, 2]\n",
      "Mean: 5.0\n",
      "Median: 5\n",
      "Mode: [2]\n"
     ]
    }
   ],
   "source": [
    "from collections import Counter\n",
    "\n",
    "# Input: Create a list of numbers\n",
    "numbers = [4, 2, 7, 2, 5, 8, 3, 9, 6, 7, 2]\n",
    "\n",
    "# Calculate mean using list comprehension\n",
    "mean = sum(numbers) / len(numbers)\n",
    "\n",
    "# Calculate median using list comprehension\n",
    "sorted_numbers = sorted(numbers)\n",
    "n = len(sorted_numbers)\n",
    "median = (sorted_numbers[n // 2] + sorted_numbers[(n - 1) // 2]) / 2 if n % 2 == 0 else sorted_numbers[n // 2]\n",
    "\n",
    "# Calculate mode using list comprehension and Counter\n",
    "counter = Counter(numbers)\n",
    "max_count = max(counter.values())\n",
    "mode = [number for number, count in counter.items() if count == max_count]\n",
    "\n",
    "# Print the calculated statistics\n",
    "print(\"List of Numbers:\", numbers)\n",
    "print(\"Mean:\", mean)\n",
    "print(\"Median:\", median)\n",
    "print(\"Mode:\", mode)"
   ]
  },
  {
   "cell_type": "markdown",
   "id": "c6f9f185-0d42-45dd-a41f-62402c8875ea",
   "metadata": {},
   "source": [
    "###  Create a program that generates Pascal's triangle up to a specified number of rows using list comprehension."
   ]
  },
  {
   "cell_type": "code",
   "execution_count": 47,
   "id": "ccf097ea-4f38-4521-ace5-f29a80c5037b",
   "metadata": {},
   "outputs": [
    {
     "name": "stdin",
     "output_type": "stream",
     "text": [
      "Enter the number of rows for Pascal's triangle:  6\n"
     ]
    },
    {
     "name": "stdout",
     "output_type": "stream",
     "text": [
      "[1]\n",
      "[1, 1]\n",
      "[1, 2, 1]\n",
      "[1, 3, 3, 1]\n",
      "[1, 4, 6, 4, 1]\n",
      "[1, 5, 10, 10, 5, 1]\n"
     ]
    }
   ],
   "source": [
    "def generate_pascals_triangle(num_rows):\n",
    "    if num_rows <= 0:\n",
    "        return []\n",
    "\n",
    "    triangle = [[1]]\n",
    "    \n",
    "    for _ in range(1, num_rows):\n",
    "        # Calculate the next row using list comprehension\n",
    "        next_row = [1] + [triangle[-1][i] + triangle[-1][i+1] for i in range(len(triangle[-1]) - 1)] + [1]\n",
    "        triangle.append(next_row)\n",
    "\n",
    "    return triangle\n",
    "\n",
    "# Input: Specify the number of rows for Pascal's triangle\n",
    "num_rows = int(input(\"Enter the number of rows for Pascal's triangle: \"))\n",
    "\n",
    "# Generate and print Pascal's triangle\n",
    "pascals_triangle = generate_pascals_triangle(num_rows)\n",
    "for row in pascals_triangle:\n",
    "    print(row)"
   ]
  },
  {
   "cell_type": "markdown",
   "id": "2588d052-ecd3-4bf4-aa4e-02fde3d0967c",
   "metadata": {},
   "source": [
    "### Develop a program that calculates the sum of the digits of a factorial of numbers from 1 to 5 using list comprehension."
   ]
  },
  {
   "cell_type": "code",
   "execution_count": 48,
   "id": "4a437798-e010-40c5-9cdd-71ee23a53eb9",
   "metadata": {},
   "outputs": [
    {
     "name": "stdout",
     "output_type": "stream",
     "text": [
      "Sum of digits of 1!: 1\n",
      "Sum of digits of 2!: 2\n",
      "Sum of digits of 3!: 6\n",
      "Sum of digits of 4!: 6\n",
      "Sum of digits of 5!: 3\n"
     ]
    }
   ],
   "source": [
    "# Function to calculate the factorial of a number\n",
    "def factorial(n):\n",
    "    if n == 0:\n",
    "        return 1\n",
    "    return n * factorial(n - 1)\n",
    "\n",
    "# Calculate the sum of digits of the factorial of numbers from 1 to 5 using list comprehension\n",
    "sum_of_digit_sums = [sum(int(digit) for digit in str(factorial(num))) for num in range(1, 6)]\n",
    "\n",
    "# Print the results\n",
    "for num, digit_sum in enumerate(sum_of_digit_sums, start=1):\n",
    "    print(f\"Sum of digits of {num}!:\", digit_sum)"
   ]
  },
  {
   "cell_type": "markdown",
   "id": "5ae6a4b8-f125-493a-bb91-1876b18ccb55",
   "metadata": {},
   "source": [
    "### Write a program that finds the longest word in a sentence using list comprehension"
   ]
  },
  {
   "cell_type": "code",
   "execution_count": 49,
   "id": "784c6cf9-962b-4cb9-9dfe-efb427d911b9",
   "metadata": {},
   "outputs": [
    {
     "name": "stdin",
     "output_type": "stream",
     "text": [
      "Enter a sentence:  There is nothing God cannot do\n"
     ]
    },
    {
     "name": "stdout",
     "output_type": "stream",
     "text": [
      "Longest word in the sentence: nothing\n"
     ]
    }
   ],
   "source": [
    "# Input: Get a sentence from the user\n",
    "sentence = input(\"Enter a sentence: \")\n",
    "\n",
    "# Split the sentence into words and find the longest word using list comprehension\n",
    "words = sentence.split()\n",
    "longest_word = max(words, key=lambda word: len(word))\n",
    "\n",
    "# Print the longest word\n",
    "print(\"Longest word in the sentence:\", longest_word)"
   ]
  },
  {
   "cell_type": "markdown",
   "id": "897bf7ac-45ac-4b20-8be6-fc5b5432ec64",
   "metadata": {},
   "source": [
    "### Create a program that filters a list of strings to include only those with more than three vowels using list comprehension."
   ]
  },
  {
   "cell_type": "code",
   "execution_count": 51,
   "id": "39963897-0a09-4442-a626-b93e6e183728",
   "metadata": {},
   "outputs": [
    {
     "name": "stdout",
     "output_type": "stream",
     "text": [
      "Strings with more than three vowels: []\n"
     ]
    }
   ],
   "source": [
    "# Function to count vowels in a string\n",
    "def count_vowels(string):\n",
    "    vowels = \"AEIOUaeiou\"\n",
    "    return sum(1 for char in string if char in vowels)\n",
    "\n",
    "# Input: Create a list of strings\n",
    "strings = [\"Hello\", \"Python\", \"I\", \"am\", \"learning\", \"programming\"]\n",
    "\n",
    "# Use list comprehension to filter strings with more than three vowels\n",
    "filtered_strings = [string for string in strings if count_vowels(string) > 3]\n",
    "\n",
    "# Print the filtered strings\n",
    "print(\"Strings with more than three vowels:\", filtered_strings)"
   ]
  },
  {
   "cell_type": "markdown",
   "id": "496837d9-3152-4e35-8e3f-d4b994d2c3a7",
   "metadata": {},
   "source": [
    "### Develop a program that calculates the sum of the digits of numbers from 1 to 1000 using list comprehension."
   ]
  },
  {
   "cell_type": "code",
   "execution_count": 52,
   "id": "b08cb83e-c7e8-4b31-a29f-fc8041e1eb2a",
   "metadata": {},
   "outputs": [
    {
     "name": "stdout",
     "output_type": "stream",
     "text": [
      "Sum of the digits of numbers from 1 to 1000: 13501\n"
     ]
    }
   ],
   "source": [
    "# Function to calculate the sum of digits in a number\n",
    "def sum_of_digits(number):\n",
    "    return sum(int(digit) for digit in str(number))\n",
    "\n",
    "# Calculate the sum of digits for numbers from 1 to 1000 using list comprehension\n",
    "sum_of_digits_list = [sum_of_digits(number) for number in range(1, 1001)]\n",
    "\n",
    "# Calculate the total sum\n",
    "total_sum = sum(sum_of_digits_list)\n",
    "\n",
    "# Print the total sum\n",
    "print(\"Sum of the digits of numbers from 1 to 1000:\", total_sum)"
   ]
  },
  {
   "cell_type": "markdown",
   "id": "9c58bb07-e9d6-4017-aa5c-8f47e93e0a2a",
   "metadata": {},
   "source": [
    "### Write a program that generates a list of prime palindromic numbers using list comprehension."
   ]
  },
  {
   "cell_type": "code",
   "execution_count": 53,
   "id": "29d5d683-e527-400d-b37b-679c113f9534",
   "metadata": {},
   "outputs": [
    {
     "name": "stdout",
     "output_type": "stream",
     "text": [
      "Prime Palindromic Numbers: [2, 3, 5, 7, 11, 101, 131, 151, 181, 191, 313, 353, 373, 383, 727, 757, 787, 797, 919, 929]\n"
     ]
    }
   ],
   "source": [
    "# Function to check if a number is prime\n",
    "def is_prime(number):\n",
    "    if number < 2:\n",
    "        return False\n",
    "    for i in range(2, int(number**0.5) + 1):\n",
    "        if number % i == 0:\n",
    "            return False\n",
    "    return True\n",
    "\n",
    "# Function to check if a number is palindromic\n",
    "def is_palindromic(number):\n",
    "    return str(number) == str(number)[::-1]\n",
    "\n",
    "# Generate a list of prime palindromic numbers using list comprehension\n",
    "prime_palindromic_numbers = [num for num in range(2, 1000) if is_prime(num) and is_palindromic(num)]\n",
    "\n",
    "# Print the list of prime palindromic numbers\n",
    "print(\"Prime Palindromic Numbers:\", prime_palindromic_numbers)"
   ]
  },
  {
   "cell_type": "code",
   "execution_count": null,
   "id": "c9fbf499-820f-4ace-957d-4229b0c947d4",
   "metadata": {},
   "outputs": [],
   "source": []
  }
 ],
 "metadata": {
  "kernelspec": {
   "display_name": "Python 3 (ipykernel)",
   "language": "python",
   "name": "python3"
  },
  "language_info": {
   "codemirror_mode": {
    "name": "ipython",
    "version": 3
   },
   "file_extension": ".py",
   "mimetype": "text/x-python",
   "name": "python",
   "nbconvert_exporter": "python",
   "pygments_lexer": "ipython3",
   "version": "3.10.8"
  }
 },
 "nbformat": 4,
 "nbformat_minor": 5
}
